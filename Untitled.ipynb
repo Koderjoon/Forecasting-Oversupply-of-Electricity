{
 "cells": [
  {
   "cell_type": "code",
   "execution_count": 2,
   "id": "dd165126",
   "metadata": {},
   "outputs": [],
   "source": [
    "import pandas as pd"
   ]
  },
  {
   "cell_type": "code",
   "execution_count": 2,
   "id": "29f777d4",
   "metadata": {},
   "outputs": [],
   "source": [
    "import matplotlib.pyplot as plt"
   ]
  },
  {
   "cell_type": "code",
   "execution_count": 3,
   "id": "c8254da6",
   "metadata": {},
   "outputs": [],
   "source": [
    "import numpy as np"
   ]
  },
  {
   "cell_type": "code",
   "execution_count": 4,
   "id": "4a385b00",
   "metadata": {},
   "outputs": [],
   "source": [
    "file_path = '한국전력거래소_시간별 전력수요량_20211231.csv'\n",
    "demand = pd.read_csv(file_path, encoding='CP949')"
   ]
  },
  {
   "cell_type": "code",
   "execution_count": 5,
   "id": "19017a61",
   "metadata": {},
   "outputs": [
    {
     "name": "stdout",
     "output_type": "stream",
     "text": [
      "             날짜     1시     2시     3시     4시     5시     6시     7시     8시  \\\n",
      "0    2021-01-01  64942  62593  60905  59889  59638  59936  60193  59982   \n",
      "1    2021-01-02  60658  58603  57309  56663  56733  57327  58378  59285   \n",
      "2    2021-01-03  61992  59723  58310  57599  57518  58073  58877  59373   \n",
      "3    2021-01-04  62078  60011  58936  58715  59233  61081  64908  71659   \n",
      "4    2021-01-05  67267  64957  63471  63136  63564  65045  68221  73685   \n",
      "..          ...    ...    ...    ...    ...    ...    ...    ...    ...   \n",
      "360  2021-12-27  66465  64473  63140  62540  63122  65025  69117  76487   \n",
      "361  2021-12-28  71059  68940  67701  67076  67184  68598  72033  78270   \n",
      "362  2021-12-29  69651  67276  65941  65136  65534  66910  70309  75972   \n",
      "363  2021-12-30  68581  66406  65155  64639  65121  66804  70225  75906   \n",
      "364  2021-12-31  69373  67187  65955  65431  65798  67226  70163  75036   \n",
      "\n",
      "        9시  ...    15시    16시    17시    18시    19시    20시    21시    22시  \\\n",
      "0    59626  ...  56691  58299  60425  62931  64176  63645  62754  61561   \n",
      "1    60669  ...  55493  57865  61407  64223  65082  64257  62981  61686   \n",
      "2    59434  ...  59465  61355  63202  65426  66473  65646  64815  63289   \n",
      "3    80766  ...  81315  81431  82840  81666  78838  75717  72867  69726   \n",
      "4    81609  ...  81611  82647  84497  83721  81513  78460  75423  72053   \n",
      "..     ...  ...    ...    ...    ...    ...    ...    ...    ...    ...   \n",
      "360  86054  ...  88435  89654  90708  88653  85067  81527  78245  74696   \n",
      "361  86809  ...  87226  87627  88077  85978  83052  80011  77035  73589   \n",
      "362  84106  ...  82446  82500  83608  82009  79711  77646  75511  72342   \n",
      "363  83494  ...  81928  83044  84564  82901  80604  78216  76176  73142   \n",
      "364  81748  ...  73706  74401  75972  75798  74578  72976  71602  69383   \n",
      "\n",
      "       23시    24시  \n",
      "0    61979  63055  \n",
      "1    61962  64227  \n",
      "2    63706  64480  \n",
      "3    68460  70327  \n",
      "4    70992  72838  \n",
      "..     ...    ...  \n",
      "360  73048  74217  \n",
      "361  71856  72875  \n",
      "362  70829  71882  \n",
      "363  71610  72472  \n",
      "364  68874  70123  \n",
      "\n",
      "[365 rows x 25 columns]\n"
     ]
    }
   ],
   "source": [
    "print(demand)"
   ]
  },
  {
   "cell_type": "code",
   "execution_count": 6,
   "id": "eec42852",
   "metadata": {},
   "outputs": [],
   "source": [
    "date = demand['날짜']"
   ]
  },
  {
   "cell_type": "code",
   "execution_count": 7,
   "id": "9a538bc3",
   "metadata": {},
   "outputs": [
    {
     "name": "stdout",
     "output_type": "stream",
     "text": [
      "            날짜     1시     2시     3시     4시     5시     6시     7시     8시     9시  \\\n",
      "91  2021-04-02  57097  54862  53822  53410  54088  55533  57948  60480  63344   \n",
      "\n",
      "    ...    15시    16시    17시    18시    19시    20시    21시    22시    23시    24시  \n",
      "91  ...  61222  62265  63540  63629  64166  64600  63183  61752  60308  59904  \n",
      "\n",
      "[1 rows x 25 columns]\n"
     ]
    }
   ],
   "source": [
    "print(demand[demand['날짜']== '2021-04-02'])"
   ]
  },
  {
   "cell_type": "code",
   "execution_count": 8,
   "id": "d1ee06f9",
   "metadata": {},
   "outputs": [
    {
     "data": {
      "text/html": [
       "<div>\n",
       "<style scoped>\n",
       "    .dataframe tbody tr th:only-of-type {\n",
       "        vertical-align: middle;\n",
       "    }\n",
       "\n",
       "    .dataframe tbody tr th {\n",
       "        vertical-align: top;\n",
       "    }\n",
       "\n",
       "    .dataframe thead th {\n",
       "        text-align: right;\n",
       "    }\n",
       "</style>\n",
       "<table border=\"1\" class=\"dataframe\">\n",
       "  <thead>\n",
       "    <tr style=\"text-align: right;\">\n",
       "      <th></th>\n",
       "      <th>날짜</th>\n",
       "      <th>1시</th>\n",
       "      <th>2시</th>\n",
       "      <th>3시</th>\n",
       "      <th>4시</th>\n",
       "      <th>5시</th>\n",
       "      <th>6시</th>\n",
       "      <th>7시</th>\n",
       "      <th>8시</th>\n",
       "      <th>9시</th>\n",
       "      <th>...</th>\n",
       "      <th>15시</th>\n",
       "      <th>16시</th>\n",
       "      <th>17시</th>\n",
       "      <th>18시</th>\n",
       "      <th>19시</th>\n",
       "      <th>20시</th>\n",
       "      <th>21시</th>\n",
       "      <th>22시</th>\n",
       "      <th>23시</th>\n",
       "      <th>24시</th>\n",
       "    </tr>\n",
       "  </thead>\n",
       "  <tbody>\n",
       "    <tr>\n",
       "      <th>91</th>\n",
       "      <td>2021-04-02</td>\n",
       "      <td>57097</td>\n",
       "      <td>54862</td>\n",
       "      <td>53822</td>\n",
       "      <td>53410</td>\n",
       "      <td>54088</td>\n",
       "      <td>55533</td>\n",
       "      <td>57948</td>\n",
       "      <td>60480</td>\n",
       "      <td>63344</td>\n",
       "      <td>...</td>\n",
       "      <td>61222</td>\n",
       "      <td>62265</td>\n",
       "      <td>63540</td>\n",
       "      <td>63629</td>\n",
       "      <td>64166</td>\n",
       "      <td>64600</td>\n",
       "      <td>63183</td>\n",
       "      <td>61752</td>\n",
       "      <td>60308</td>\n",
       "      <td>59904</td>\n",
       "    </tr>\n",
       "  </tbody>\n",
       "</table>\n",
       "<p>1 rows × 25 columns</p>\n",
       "</div>"
      ],
      "text/plain": [
       "            날짜     1시     2시     3시     4시     5시     6시     7시     8시     9시  \\\n",
       "91  2021-04-02  57097  54862  53822  53410  54088  55533  57948  60480  63344   \n",
       "\n",
       "    ...    15시    16시    17시    18시    19시    20시    21시    22시    23시    24시  \n",
       "91  ...  61222  62265  63540  63629  64166  64600  63183  61752  60308  59904  \n",
       "\n",
       "[1 rows x 25 columns]"
      ]
     },
     "execution_count": 8,
     "metadata": {},
     "output_type": "execute_result"
    }
   ],
   "source": [
    "april = demand[demand['날짜']== '2021-04-02']\n",
    "april"
   ]
  },
  {
   "cell_type": "code",
   "execution_count": 41,
   "id": "36d26fbb",
   "metadata": {},
   "outputs": [],
   "source": [
    "april.to_excel(\"4월2일.xlsx\", sheet_name = \"첫저장\", index = False)"
   ]
  },
  {
   "cell_type": "code",
   "execution_count": 22,
   "id": "4a3b49dd",
   "metadata": {},
   "outputs": [],
   "source": [
    "row = april.iloc[0]"
   ]
  },
  {
   "cell_type": "code",
   "execution_count": 23,
   "id": "7b2496d5",
   "metadata": {},
   "outputs": [
    {
     "data": {
      "text/plain": [
       "날짜     2021-04-02\n",
       "1시          57097\n",
       "2시          54862\n",
       "3시          53822\n",
       "4시          53410\n",
       "5시          54088\n",
       "6시          55533\n",
       "7시          57948\n",
       "8시          60480\n",
       "9시          63344\n",
       "10시         62635\n",
       "11시         61245\n",
       "12시         59516\n",
       "13시         56490\n",
       "14시         59407\n",
       "15시         61222\n",
       "16시         62265\n",
       "17시         63540\n",
       "18시         63629\n",
       "19시         64166\n",
       "20시         64600\n",
       "21시         63183\n",
       "22시         61752\n",
       "23시         60308\n",
       "24시         59904\n",
       "Name: 91, dtype: object"
      ]
     },
     "execution_count": 23,
     "metadata": {},
     "output_type": "execute_result"
    }
   ],
   "source": [
    "row"
   ]
  },
  {
   "cell_type": "code",
   "execution_count": 19,
   "id": "68b49083",
   "metadata": {},
   "outputs": [
    {
     "ename": "TypeError",
     "evalue": "no numeric data to plot",
     "output_type": "error",
     "traceback": [
      "\u001b[1;31m---------------------------------------------------------------------------\u001b[0m",
      "\u001b[1;31mTypeError\u001b[0m                                 Traceback (most recent call last)",
      "\u001b[1;32m~\\AppData\\Local\\Temp/ipykernel_17084/3815980826.py\u001b[0m in \u001b[0;36m<module>\u001b[1;34m\u001b[0m\n\u001b[1;32m----> 1\u001b[1;33m \u001b[0mrow\u001b[0m\u001b[1;33m.\u001b[0m\u001b[0mplot\u001b[0m\u001b[1;33m(\u001b[0m\u001b[0mkind\u001b[0m \u001b[1;33m=\u001b[0m \u001b[1;34m'bar'\u001b[0m\u001b[1;33m)\u001b[0m\u001b[1;33m\u001b[0m\u001b[1;33m\u001b[0m\u001b[0m\n\u001b[0m\u001b[0;32m      2\u001b[0m \u001b[0mplt\u001b[0m\u001b[1;33m.\u001b[0m\u001b[0mshow\u001b[0m\u001b[1;33m(\u001b[0m\u001b[1;33m)\u001b[0m\u001b[1;33m\u001b[0m\u001b[1;33m\u001b[0m\u001b[0m\n",
      "\u001b[1;32m~\\anaconda3\\lib\\site-packages\\pandas\\plotting\\_core.py\u001b[0m in \u001b[0;36m__call__\u001b[1;34m(self, *args, **kwargs)\u001b[0m\n\u001b[0;32m    970\u001b[0m                     \u001b[0mdata\u001b[0m\u001b[1;33m.\u001b[0m\u001b[0mcolumns\u001b[0m \u001b[1;33m=\u001b[0m \u001b[0mlabel_name\u001b[0m\u001b[1;33m\u001b[0m\u001b[1;33m\u001b[0m\u001b[0m\n\u001b[0;32m    971\u001b[0m \u001b[1;33m\u001b[0m\u001b[0m\n\u001b[1;32m--> 972\u001b[1;33m         \u001b[1;32mreturn\u001b[0m \u001b[0mplot_backend\u001b[0m\u001b[1;33m.\u001b[0m\u001b[0mplot\u001b[0m\u001b[1;33m(\u001b[0m\u001b[0mdata\u001b[0m\u001b[1;33m,\u001b[0m \u001b[0mkind\u001b[0m\u001b[1;33m=\u001b[0m\u001b[0mkind\u001b[0m\u001b[1;33m,\u001b[0m \u001b[1;33m**\u001b[0m\u001b[0mkwargs\u001b[0m\u001b[1;33m)\u001b[0m\u001b[1;33m\u001b[0m\u001b[1;33m\u001b[0m\u001b[0m\n\u001b[0m\u001b[0;32m    973\u001b[0m \u001b[1;33m\u001b[0m\u001b[0m\n\u001b[0;32m    974\u001b[0m     \u001b[0m__call__\u001b[0m\u001b[1;33m.\u001b[0m\u001b[0m__doc__\u001b[0m \u001b[1;33m=\u001b[0m \u001b[0m__doc__\u001b[0m\u001b[1;33m\u001b[0m\u001b[1;33m\u001b[0m\u001b[0m\n",
      "\u001b[1;32m~\\anaconda3\\lib\\site-packages\\pandas\\plotting\\_matplotlib\\__init__.py\u001b[0m in \u001b[0;36mplot\u001b[1;34m(data, kind, **kwargs)\u001b[0m\n\u001b[0;32m     69\u001b[0m             \u001b[0mkwargs\u001b[0m\u001b[1;33m[\u001b[0m\u001b[1;34m\"ax\"\u001b[0m\u001b[1;33m]\u001b[0m \u001b[1;33m=\u001b[0m \u001b[0mgetattr\u001b[0m\u001b[1;33m(\u001b[0m\u001b[0max\u001b[0m\u001b[1;33m,\u001b[0m \u001b[1;34m\"left_ax\"\u001b[0m\u001b[1;33m,\u001b[0m \u001b[0max\u001b[0m\u001b[1;33m)\u001b[0m\u001b[1;33m\u001b[0m\u001b[1;33m\u001b[0m\u001b[0m\n\u001b[0;32m     70\u001b[0m     \u001b[0mplot_obj\u001b[0m \u001b[1;33m=\u001b[0m \u001b[0mPLOT_CLASSES\u001b[0m\u001b[1;33m[\u001b[0m\u001b[0mkind\u001b[0m\u001b[1;33m]\u001b[0m\u001b[1;33m(\u001b[0m\u001b[0mdata\u001b[0m\u001b[1;33m,\u001b[0m \u001b[1;33m**\u001b[0m\u001b[0mkwargs\u001b[0m\u001b[1;33m)\u001b[0m\u001b[1;33m\u001b[0m\u001b[1;33m\u001b[0m\u001b[0m\n\u001b[1;32m---> 71\u001b[1;33m     \u001b[0mplot_obj\u001b[0m\u001b[1;33m.\u001b[0m\u001b[0mgenerate\u001b[0m\u001b[1;33m(\u001b[0m\u001b[1;33m)\u001b[0m\u001b[1;33m\u001b[0m\u001b[1;33m\u001b[0m\u001b[0m\n\u001b[0m\u001b[0;32m     72\u001b[0m     \u001b[0mplot_obj\u001b[0m\u001b[1;33m.\u001b[0m\u001b[0mdraw\u001b[0m\u001b[1;33m(\u001b[0m\u001b[1;33m)\u001b[0m\u001b[1;33m\u001b[0m\u001b[1;33m\u001b[0m\u001b[0m\n\u001b[0;32m     73\u001b[0m     \u001b[1;32mreturn\u001b[0m \u001b[0mplot_obj\u001b[0m\u001b[1;33m.\u001b[0m\u001b[0mresult\u001b[0m\u001b[1;33m\u001b[0m\u001b[1;33m\u001b[0m\u001b[0m\n",
      "\u001b[1;32m~\\anaconda3\\lib\\site-packages\\pandas\\plotting\\_matplotlib\\core.py\u001b[0m in \u001b[0;36mgenerate\u001b[1;34m(self)\u001b[0m\n\u001b[0;32m    284\u001b[0m     \u001b[1;32mdef\u001b[0m \u001b[0mgenerate\u001b[0m\u001b[1;33m(\u001b[0m\u001b[0mself\u001b[0m\u001b[1;33m)\u001b[0m\u001b[1;33m:\u001b[0m\u001b[1;33m\u001b[0m\u001b[1;33m\u001b[0m\u001b[0m\n\u001b[0;32m    285\u001b[0m         \u001b[0mself\u001b[0m\u001b[1;33m.\u001b[0m\u001b[0m_args_adjust\u001b[0m\u001b[1;33m(\u001b[0m\u001b[1;33m)\u001b[0m\u001b[1;33m\u001b[0m\u001b[1;33m\u001b[0m\u001b[0m\n\u001b[1;32m--> 286\u001b[1;33m         \u001b[0mself\u001b[0m\u001b[1;33m.\u001b[0m\u001b[0m_compute_plot_data\u001b[0m\u001b[1;33m(\u001b[0m\u001b[1;33m)\u001b[0m\u001b[1;33m\u001b[0m\u001b[1;33m\u001b[0m\u001b[0m\n\u001b[0m\u001b[0;32m    287\u001b[0m         \u001b[0mself\u001b[0m\u001b[1;33m.\u001b[0m\u001b[0m_setup_subplots\u001b[0m\u001b[1;33m(\u001b[0m\u001b[1;33m)\u001b[0m\u001b[1;33m\u001b[0m\u001b[1;33m\u001b[0m\u001b[0m\n\u001b[0;32m    288\u001b[0m         \u001b[0mself\u001b[0m\u001b[1;33m.\u001b[0m\u001b[0m_make_plot\u001b[0m\u001b[1;33m(\u001b[0m\u001b[1;33m)\u001b[0m\u001b[1;33m\u001b[0m\u001b[1;33m\u001b[0m\u001b[0m\n",
      "\u001b[1;32m~\\anaconda3\\lib\\site-packages\\pandas\\plotting\\_matplotlib\\core.py\u001b[0m in \u001b[0;36m_compute_plot_data\u001b[1;34m(self)\u001b[0m\n\u001b[0;32m    451\u001b[0m         \u001b[1;31m# no non-numeric frames or series allowed\u001b[0m\u001b[1;33m\u001b[0m\u001b[1;33m\u001b[0m\u001b[0m\n\u001b[0;32m    452\u001b[0m         \u001b[1;32mif\u001b[0m \u001b[0mis_empty\u001b[0m\u001b[1;33m:\u001b[0m\u001b[1;33m\u001b[0m\u001b[1;33m\u001b[0m\u001b[0m\n\u001b[1;32m--> 453\u001b[1;33m             \u001b[1;32mraise\u001b[0m \u001b[0mTypeError\u001b[0m\u001b[1;33m(\u001b[0m\u001b[1;34m\"no numeric data to plot\"\u001b[0m\u001b[1;33m)\u001b[0m\u001b[1;33m\u001b[0m\u001b[1;33m\u001b[0m\u001b[0m\n\u001b[0m\u001b[0;32m    454\u001b[0m \u001b[1;33m\u001b[0m\u001b[0m\n\u001b[0;32m    455\u001b[0m         \u001b[0mself\u001b[0m\u001b[1;33m.\u001b[0m\u001b[0mdata\u001b[0m \u001b[1;33m=\u001b[0m \u001b[0mnumeric_data\u001b[0m\u001b[1;33m.\u001b[0m\u001b[0mapply\u001b[0m\u001b[1;33m(\u001b[0m\u001b[0mself\u001b[0m\u001b[1;33m.\u001b[0m\u001b[0m_convert_to_ndarray\u001b[0m\u001b[1;33m)\u001b[0m\u001b[1;33m\u001b[0m\u001b[1;33m\u001b[0m\u001b[0m\n",
      "\u001b[1;31mTypeError\u001b[0m: no numeric data to plot"
     ]
    }
   ],
   "source": [
    "row.plot(kind = 'bar')\n",
    "plt.show()"
   ]
  },
  {
   "cell_type": "code",
   "execution_count": 25,
   "id": "966a09f4",
   "metadata": {},
   "outputs": [
    {
     "data": {
      "image/png": "[encoded data removed]",
      "text/plain": [
       "<Figure size 432x288 with 1 Axes>"
      ]
     },
     "metadata": {
      "needs_background": "light"
     },
     "output_type": "display_data"
    }
   ],
   "source": [
    "d = {'columns': ['T', 'G', 'C', '-', 'A', 'C', 'T', '-', 'A', 'G', 'T', \n",
    "                 '-', 'A', 'G', 'C', '-', 'A', 'T', 'G', 'C'],\n",
    "     'data': [[97, 457, 178, 75, 718, 217, 193, 69, 184, 198,\n",
    "               777, 65, 100, 143, 477, 54, 63, 43, 55, 47]],\n",
    "     'index': ['2014-03-21']}\n",
    "df = pd.DataFrame(d['data'], columns=d['columns'], index=d['index'])\n",
    "\n",
    "\n",
    "row = df.iloc[0]\n",
    "row.plot(kind='bar')\n",
    "plt.show()"
   ]
  },
  {
   "cell_type": "code",
   "execution_count": 26,
   "id": "e0c04067",
   "metadata": {},
   "outputs": [
    {
     "data": {
      "text/plain": [
       "T     97\n",
       "G    457\n",
       "C    178\n",
       "-     75\n",
       "A    718\n",
       "C    217\n",
       "T    193\n",
       "-     69\n",
       "A    184\n",
       "G    198\n",
       "T    777\n",
       "-     65\n",
       "A    100\n",
       "G    143\n",
       "C    477\n",
       "-     54\n",
       "A     63\n",
       "T     43\n",
       "G     55\n",
       "C     47\n",
       "Name: 2014-03-21, dtype: int64"
      ]
     },
     "execution_count": 26,
     "metadata": {},
     "output_type": "execute_result"
    }
   ],
   "source": [
    "row"
   ]
  },
  {
   "cell_type": "code",
   "execution_count": 23,
   "id": "9c4fdda0",
   "metadata": {},
   "outputs": [],
   "source": [
    "df = pd.DataFrame([[1, 2], [4, 5], [7, 8]],\n",
    "     index=['cobra', 'viper', 'sidewinder'],\n",
    "     columns=['max_speed', 'shield'])"
   ]
  },
  {
   "cell_type": "code",
   "execution_count": 4,
   "id": "975622d0",
   "metadata": {},
   "outputs": [
    {
     "data": {
      "text/html": [
       "<div>\n",
       "<style scoped>\n",
       "    .dataframe tbody tr th:only-of-type {\n",
       "        vertical-align: middle;\n",
       "    }\n",
       "\n",
       "    .dataframe tbody tr th {\n",
       "        vertical-align: top;\n",
       "    }\n",
       "\n",
       "    .dataframe thead th {\n",
       "        text-align: right;\n",
       "    }\n",
       "</style>\n",
       "<table border=\"1\" class=\"dataframe\">\n",
       "  <thead>\n",
       "    <tr style=\"text-align: right;\">\n",
       "      <th></th>\n",
       "      <th>max_speed</th>\n",
       "      <th>shield</th>\n",
       "    </tr>\n",
       "  </thead>\n",
       "  <tbody>\n",
       "    <tr>\n",
       "      <th>cobra</th>\n",
       "      <td>1</td>\n",
       "      <td>2</td>\n",
       "    </tr>\n",
       "    <tr>\n",
       "      <th>viper</th>\n",
       "      <td>4</td>\n",
       "      <td>5</td>\n",
       "    </tr>\n",
       "    <tr>\n",
       "      <th>sidewinder</th>\n",
       "      <td>7</td>\n",
       "      <td>8</td>\n",
       "    </tr>\n",
       "  </tbody>\n",
       "</table>\n",
       "</div>"
      ],
      "text/plain": [
       "            max_speed  shield\n",
       "cobra               1       2\n",
       "viper               4       5\n",
       "sidewinder          7       8"
      ]
     },
     "execution_count": 4,
     "metadata": {},
     "output_type": "execute_result"
    }
   ],
   "source": [
    "df"
   ]
  },
  {
   "cell_type": "code",
   "execution_count": 17,
   "id": "86aa1e0d",
   "metadata": {},
   "outputs": [],
   "source": [
    "a =pd.Index([\"cobra\", \"viper\"], name=\"foo\")"
   ]
  },
  {
   "cell_type": "code",
   "execution_count": 37,
   "id": "7ed9ccad",
   "metadata": {},
   "outputs": [
    {
     "data": {
      "text/plain": [
       "cobra         False\n",
       "viper          True\n",
       "sidewinder     True\n",
       "dtype: bool"
      ]
     },
     "execution_count": 37,
     "metadata": {},
     "output_type": "execute_result"
    }
   ],
   "source": [
    "(df['max_speed']>1)&(df['shield']<9)"
   ]
  },
  {
   "cell_type": "code",
   "execution_count": 14,
   "id": "d8f45db7",
   "metadata": {},
   "outputs": [
    {
     "data": {
      "text/plain": [
       "pandas.core.frame.DataFrame"
      ]
     },
     "execution_count": 14,
     "metadata": {},
     "output_type": "execute_result"
    }
   ],
   "source": []
  },
  {
   "cell_type": "code",
   "execution_count": null,
   "id": "5c1427ae",
   "metadata": {},
   "outputs": [],
   "source": []
  }
 ],
 "metadata": {
  "kernelspec": {
   "display_name": "Python 3 (ipykernel)",
   "language": "python",
   "name": "python3"
  },
  "language_info": {
   "codemirror_mode": {
    "name": "ipython",
    "version": 3
   },
   "file_extension": ".py",
   "mimetype": "text/x-python",
   "name": "python",
   "nbconvert_exporter": "python",
   "pygments_lexer": "ipython3",
   "version": "3.9.7"
  }
 },
 "nbformat": 4,
 "nbformat_minor": 5
}
